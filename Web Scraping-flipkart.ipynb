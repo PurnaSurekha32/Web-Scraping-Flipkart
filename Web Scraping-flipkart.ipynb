{
 "cells": [
  {
   "cell_type": "markdown",
   "id": "f0fd65ac",
   "metadata": {},
   "source": [
    "# Steps in Web Scraping"
   ]
  },
  {
   "cell_type": "markdown",
   "id": "8f362f81",
   "metadata": {},
   "source": [
    "We use requests package to connect to the desired web page\n",
    "\n",
    "We will use beautiful soup library to pass the data from the web page and store them in list or dict\n",
    "\n",
    "Analysing the html tags form our specific fields\n",
    "\n",
    "Store the data in csv or xlsx files"
   ]
  },
  {
   "cell_type": "markdown",
   "id": "e09ee2bb",
   "metadata": {},
   "source": [
    "# HTTP response status codes"
   ]
  },
  {
   "cell_type": "markdown",
   "id": "90896d01",
   "metadata": {},
   "source": [
    "HTTP response status codes indicate whether a specific HTTP request has bee successfully completed.\n",
    "Response are grouped in five classes:\n",
    "\n",
    "1. informational responses(100-199)\n",
    "2. Successful responses(200-299)\n",
    "3. Redirection messages(300-399)\n",
    "4. Client error responses(400-499)\n",
    "5. Server error responses(500-599)"
   ]
  },
  {
   "cell_type": "code",
   "execution_count": 1,
   "id": "6ce4244c",
   "metadata": {},
   "outputs": [],
   "source": [
    "#pip install requests"
   ]
  },
  {
   "cell_type": "code",
   "execution_count": 2,
   "id": "539e941e",
   "metadata": {},
   "outputs": [],
   "source": [
    "#pip install bs4 "
   ]
  },
  {
   "cell_type": "code",
   "execution_count": 3,
   "id": "71f12353",
   "metadata": {},
   "outputs": [],
   "source": [
    "import requests\n",
    "import bs4\n",
    "from bs4 import BeautifulSoup\n",
    "import pandas as pd"
   ]
  },
  {
   "cell_type": "code",
   "execution_count": 37,
   "id": "6ecacc9a",
   "metadata": {},
   "outputs": [],
   "source": [
    "url=\"https://www.flipkart.com/\""
   ]
  },
  {
   "cell_type": "code",
   "execution_count": 38,
   "id": "b33b7c4a",
   "metadata": {},
   "outputs": [
    {
     "data": {
      "text/plain": [
       "<Response [200]>"
      ]
     },
     "execution_count": 38,
     "metadata": {},
     "output_type": "execute_result"
    }
   ],
   "source": [
    "data=requests.get(url)\n",
    "data"
   ]
  },
  {
   "cell_type": "code",
   "execution_count": 27,
   "id": "7622966e",
   "metadata": {},
   "outputs": [
    {
     "data": {
      "text/plain": [
       "str"
      ]
     },
     "execution_count": 27,
     "metadata": {},
     "output_type": "execute_result"
    }
   ],
   "source": [
    "type(data.text)"
   ]
  },
  {
   "cell_type": "code",
   "execution_count": 28,
   "id": "526a8adc",
   "metadata": {},
   "outputs": [],
   "source": [
    "soup=BeautifulSoup(data.text,\"html\")"
   ]
  },
  {
   "cell_type": "markdown",
   "id": "fe466eb3",
   "metadata": {},
   "source": [
    "# Print Information Line by Line"
   ]
  },
  {
   "cell_type": "code",
   "execution_count": 29,
   "id": "be3ed764",
   "metadata": {},
   "outputs": [
    {
     "data": {
      "text/plain": [
       "'Oppo F27 Pro plus'"
      ]
     },
     "execution_count": 29,
     "metadata": {},
     "output_type": "execute_result"
    }
   ],
   "source": [
    "soup.find('div',attrs={\"class\":\"_58bkzq63 _3n8fnay4 _3n8fnapm _3n8fnah3 _3n8fna1 _3n8fna8k _58bkzqg _1i2djtb9 _1i2djt0\"}).text"
   ]
  },
  {
   "cell_type": "code",
   "execution_count": 30,
   "id": "f344c901",
   "metadata": {},
   "outputs": [
    {
     "data": {
      "text/plain": [
       "'Just ₹27,999'"
      ]
     },
     "execution_count": 30,
     "metadata": {},
     "output_type": "execute_result"
    }
   ],
   "source": [
    "soup.find('div',attrs={\"class\":\"_58bkzq61 _3n8fnay4 _3n8fnapm _3n8fnah3 _3n8fna1 _3n8fna8k _58bkzq2 _1i2djtb9 _1i2djt0\"}).text"
   ]
  },
  {
   "cell_type": "markdown",
   "id": "c3044419",
   "metadata": {},
   "source": [
    "# Print the information all at once"
   ]
  },
  {
   "cell_type": "code",
   "execution_count": 11,
   "id": "d1e81569",
   "metadata": {},
   "outputs": [],
   "source": [
    "prop=soup.find_all('div',attrs={\"class\":\"_58bkzq63 _3n8fnay4 _3n8fnapm _3n8fnah3 _3n8fna1 _3n8fna8k _58bkzqg _1i2djtb9 _1i2djt0\"})"
   ]
  },
  {
   "cell_type": "code",
   "execution_count": 12,
   "id": "1ec65169",
   "metadata": {},
   "outputs": [],
   "source": [
    "prop_name=[]\n",
    "for i in prop:\n",
    "    prop_name.append(i.text)"
   ]
  },
  {
   "cell_type": "code",
   "execution_count": 13,
   "id": "1936e9c9",
   "metadata": {},
   "outputs": [
    {
     "name": "stdout",
     "output_type": "stream",
     "text": [
      "['Realme P1 Pro 5G', 'realme 12x 5G(6|128GB)', 'Vivo T3 Lite', 'vivo T3X 5G', 'Redmi 12 5G', 'realme P1 5G( 6|128GB)', 'moto g64 5G', 'Realme P1 5g']\n",
      "Length :  8\n"
     ]
    }
   ],
   "source": [
    "Mobile=[i.text for i in prop]\n",
    "print(Mobile)\n",
    "print(\"Length : \",len(Mobile))"
   ]
  },
  {
   "cell_type": "code",
   "execution_count": 31,
   "id": "e52f3ed9",
   "metadata": {},
   "outputs": [
    {
     "name": "stdout",
     "output_type": "stream",
     "text": [
      "['Just ₹27,999', 'From ₹27,999*', 'Just ₹15,999', 'Just ₹12,999*', 'Just ₹10,999*', 'From ₹10,999*', 'Just ₹11,249*', 'From ₹14,999*']\n",
      "Length :  8\n"
     ]
    }
   ],
   "source": [
    "b=soup.find_all('div',attrs={\"class\":\"_58bkzq61 _3n8fnay4 _3n8fnapm _3n8fnah3 _3n8fna1 _3n8fna8k _58bkzq2 _1i2djtb9 _1i2djt0\"})\n",
    "Price=[i.text for i in b]\n",
    "print(Price)\n",
    "print(\"Length : \",len(b))"
   ]
  },
  {
   "cell_type": "code",
   "execution_count": 32,
   "id": "ddeeb75d",
   "metadata": {},
   "outputs": [
    {
     "data": {
      "text/html": [
       "<div>\n",
       "<style scoped>\n",
       "    .dataframe tbody tr th:only-of-type {\n",
       "        vertical-align: middle;\n",
       "    }\n",
       "\n",
       "    .dataframe tbody tr th {\n",
       "        vertical-align: top;\n",
       "    }\n",
       "\n",
       "    .dataframe thead th {\n",
       "        text-align: right;\n",
       "    }\n",
       "</style>\n",
       "<table border=\"1\" class=\"dataframe\">\n",
       "  <thead>\n",
       "    <tr style=\"text-align: right;\">\n",
       "      <th></th>\n",
       "      <th>Mobile</th>\n",
       "      <th>Price</th>\n",
       "    </tr>\n",
       "  </thead>\n",
       "  <tbody>\n",
       "    <tr>\n",
       "      <th>0</th>\n",
       "      <td>Realme P1 Pro 5G</td>\n",
       "      <td>Just ₹27,999</td>\n",
       "    </tr>\n",
       "    <tr>\n",
       "      <th>1</th>\n",
       "      <td>realme 12x 5G(6|128GB)</td>\n",
       "      <td>From ₹27,999*</td>\n",
       "    </tr>\n",
       "    <tr>\n",
       "      <th>2</th>\n",
       "      <td>Vivo T3 Lite</td>\n",
       "      <td>Just ₹15,999</td>\n",
       "    </tr>\n",
       "    <tr>\n",
       "      <th>3</th>\n",
       "      <td>vivo T3X 5G</td>\n",
       "      <td>Just ₹12,999*</td>\n",
       "    </tr>\n",
       "    <tr>\n",
       "      <th>4</th>\n",
       "      <td>Redmi 12 5G</td>\n",
       "      <td>Just ₹10,999*</td>\n",
       "    </tr>\n",
       "    <tr>\n",
       "      <th>5</th>\n",
       "      <td>realme P1 5G( 6|128GB)</td>\n",
       "      <td>From ₹10,999*</td>\n",
       "    </tr>\n",
       "    <tr>\n",
       "      <th>6</th>\n",
       "      <td>moto g64 5G</td>\n",
       "      <td>Just ₹11,249*</td>\n",
       "    </tr>\n",
       "    <tr>\n",
       "      <th>7</th>\n",
       "      <td>Realme P1 5g</td>\n",
       "      <td>From ₹14,999*</td>\n",
       "    </tr>\n",
       "  </tbody>\n",
       "</table>\n",
       "</div>"
      ],
      "text/plain": [
       "                   Mobile          Price\n",
       "0        Realme P1 Pro 5G   Just ₹27,999\n",
       "1  realme 12x 5G(6|128GB)  From ₹27,999*\n",
       "2            Vivo T3 Lite   Just ₹15,999\n",
       "3             vivo T3X 5G  Just ₹12,999*\n",
       "4             Redmi 12 5G  Just ₹10,999*\n",
       "5  realme P1 5G( 6|128GB)  From ₹10,999*\n",
       "6             moto g64 5G  Just ₹11,249*\n",
       "7            Realme P1 5g  From ₹14,999*"
      ]
     },
     "execution_count": 32,
     "metadata": {},
     "output_type": "execute_result"
    }
   ],
   "source": [
    "data=pd.DataFrame({'Mobile':Mobile,'Price':Price})\n",
    "data"
   ]
  },
  {
   "cell_type": "markdown",
   "id": "7a9431f3",
   "metadata": {},
   "source": [
    "# Store the scraped data as csv or xlsx files"
   ]
  },
  {
   "cell_type": "code",
   "execution_count": 33,
   "id": "63cd180a",
   "metadata": {},
   "outputs": [],
   "source": [
    "data.to_csv(\"flipkart_phones.csv\")"
   ]
  },
  {
   "cell_type": "markdown",
   "id": "40c81d99",
   "metadata": {},
   "source": []
  },
  {
   "cell_type": "code",
   "execution_count": null,
   "id": "64bcad17",
   "metadata": {},
   "outputs": [],
   "source": []
  },
  {
   "cell_type": "code",
   "execution_count": null,
   "id": "e5ad3ac2",
   "metadata": {},
   "outputs": [],
   "source": []
  }
 ],
 "metadata": {
  "kernelspec": {
   "display_name": "Python 3 (ipykernel)",
   "language": "python",
   "name": "python3"
  },
  "language_info": {
   "codemirror_mode": {
    "name": "ipython",
    "version": 3
   },
   "file_extension": ".py",
   "mimetype": "text/x-python",
   "name": "python",
   "nbconvert_exporter": "python",
   "pygments_lexer": "ipython3",
   "version": "3.9.12"
  }
 },
 "nbformat": 4,
 "nbformat_minor": 5
}
